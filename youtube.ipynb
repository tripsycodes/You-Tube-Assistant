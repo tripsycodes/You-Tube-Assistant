{
 "cells": [
  {
   "cell_type": "code",
   "execution_count": 60,
   "metadata": {},
   "outputs": [],
   "source": [
    "from langchain.document_loaders import YoutubeLoader\n",
    "from langchain.text_splitter import RecursiveCharacterTextSplitter\n",
    "from langchain_google_genai import ChatGoogleGenerativeAI\n",
    "from langchain.chains import LLMChain\n",
    "from langchain.vectorstores import FAISS\n",
    "from langchain_google_genai import GoogleGenerativeAIEmbeddings\n",
    "from dotenv import load_dotenv, find_dotenv\n",
    "load_dotenv(find_dotenv(\"try.env\"))\n",
    "from langchain import PromptTemplate\n",
    "from langchain.schema import StrOutputParser\n",
    "from langchain.schema.runnable import RunnablePassthrough"
   ]
  },
  {
   "cell_type": "code",
   "execution_count": 11,
   "metadata": {},
   "outputs": [],
   "source": [
    "from langchain_google_genai import GoogleGenerativeAIEmbeddings\n",
    "embeddings = GoogleGenerativeAIEmbeddings(model=\"models/embedding-001\")"
   ]
  },
  {
   "cell_type": "code",
   "execution_count": 33,
   "metadata": {},
   "outputs": [],
   "source": [
    "def vectordb_from_youtube(video_url:str) -> FAISS:\n",
    "    loader = YoutubeLoader.from_youtube_url(video_url)\n",
    "    transcript = loader.load()\n",
    "\n",
    "    text_splitter = RecursiveCharacterTextSplitter(chunk_size = 800, chunk_overlap = 80)\n",
    "    docs = text_splitter.split_documents(transcript)\n",
    "\n",
    "    db = FAISS.from_documents(docs, embeddings)\n",
    "    retriever = db.as_retriever()\n",
    "\n",
    "    return retriever\n"
   ]
  },
  {
   "cell_type": "code",
   "execution_count": 34,
   "metadata": {},
   "outputs": [
    {
     "name": "stdout",
     "output_type": "stream",
     "text": [
      "tags=['FAISS', 'GoogleGenerativeAIEmbeddings'] vectorstore=<langchain_community.vectorstores.faiss.FAISS object at 0x00000232B01DEAC0> search_kwargs={}\n"
     ]
    }
   ],
   "source": [
    "video_url = \"https://www.youtube.com/watch?v=stM2eCH-IXk\"\n",
    "db = vectordb_from_youtube(video_url)\n",
    "print(db)"
   ]
  },
  {
   "cell_type": "code",
   "execution_count": 59,
   "metadata": {},
   "outputs": [],
   "source": [
    "def format_docs(docs):\n",
    "    return \"\\n\\n\".join(doc.page_content for doc in docs)"
   ]
  },
  {
   "cell_type": "code",
   "execution_count": 73,
   "metadata": {},
   "outputs": [],
   "source": [
    "def get_response (db, question,k = 4):\n",
    "    docs = db.invoke(question, k = k)\n",
    "    docs_page_content = \" \".join([d.page_content for d in docs])\n",
    "   \n",
    "    llm = ChatGoogleGenerativeAI(model = \"gemini-pro\",temperature = 0.75, top_p = 0.85)\n",
    "    prompt_temp = PromptTemplate(\n",
    "        input_variable = [\"question\" , \"docs\"],\n",
    "        template = \"\"\"You are a helpful youtube assistant who can answer questions\n",
    "        based on video transcript.\n",
    "        Answer the following question: {question}\n",
    "        By searching the following video transcript : {docs}\n",
    "        Please answer to the point.\n",
    "        \n",
    "        If you dont have enough info just say \"The question is not in my reach\"\n",
    "        The answers should not be more than 4 lines.\"\"\"\n",
    "    )\n",
    "    llm_prompt = prompt_temp\n",
    "    rag_chain = (\n",
    "        {\"docs\": db | format_docs, \"question\": RunnablePassthrough()}\n",
    "        | llm_prompt\n",
    "        | llm\n",
    "        | StrOutputParser()\n",
    "    )\n",
    "\n",
    "    return rag_chain.invoke(question),
    "    "
   ]
  },
  {
   "cell_type": "code",
   "execution_count": 74,
   "metadata": {},
   "outputs": [
    {
     "name": "stdout",
     "output_type": "stream",
     "text": [
      "The question is not in my reach\n"
     ]
    }
   ],
   "source": [
    "get_response(db,\"What is the context of the ring bearer?\")"
   ]
  }
 ],
 "metadata": {
  "kernelspec": {
   "display_name": "Python 3",
   "language": "python",
   "name": "python3"
  },
  "language_info": {
   "codemirror_mode": {
    "name": "ipython",
    "version": 3
   },
   "file_extension": ".py",
   "mimetype": "text/x-python",
   "name": "python",
   "nbconvert_exporter": "python",
   "pygments_lexer": "ipython3",
   "version": "3.9.0rc2"
  }
 },
 "nbformat": 4,
 "nbformat_minor": 2
}
